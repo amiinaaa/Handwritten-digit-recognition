{
  "nbformat": 4,
  "nbformat_minor": 0,
  "metadata": {
    "colab": {
      "provenance": [],
      "authorship_tag": "ABX9TyPJ7lXpEqeb3sgywq0YieXn",
      "include_colab_link": true
    },
    "kernelspec": {
      "name": "python3",
      "display_name": "Python 3"
    },
    "language_info": {
      "name": "python"
    }
  },
  "cells": [
    {
      "cell_type": "markdown",
      "metadata": {
        "id": "view-in-github",
        "colab_type": "text"
      },
      "source": [
        "<a href=\"https://colab.research.google.com/github/amiinaaa/Handwritten-digit-recognition/blob/main/CNN.ipynb\" target=\"_parent\"><img src=\"https://colab.research.google.com/assets/colab-badge.svg\" alt=\"Open In Colab\"/></a>"
      ]
    },
    {
      "cell_type": "code",
      "execution_count": null,
      "metadata": {
        "id": "HUpTLlmcrq2G"
      },
      "outputs": [],
      "source": [
        "import cv2 as cv#une bibliothèque de traitement d'images,reconnaissance d'objets...\n",
        "import numpy as np#tableaux\n",
        "import matplotlib.pyplot as plt#graphes\n",
        "import tensorflow as tf#apprentissage automatique et le traitement de données"
      ]
    },
    {
      "cell_type": "markdown",
      "source": [
        "Les données d'entraînement et de test sont divisées en deux ensembles, les images (x_train, x_test) et les étiquettes (y_train, y_test). Les images représentent les données d'entrée du modèle, tandis que les étiquettes représentent les sorties attendues pour chaque image."
      ],
      "metadata": {
        "id": "yxQnOyO81Uax"
      }
    },
    {
      "cell_type": "markdown",
      "source": [
        "La normalisation des données est une étape importante dans la préparation des données pour l'apprentissage automatique, car elle permet d'ajuster les données dans une plage de valeurs commune et de les mettre à l'échelle.\n",
        "\n",
        "La fonction normalize() normalise les données d'entraînement en divisant chaque valeur de pixel par la norme L2 de l'image. Elle utilise l'argument \"axis=1\" pour normaliser chaque ligne de l'image séparément. Cela permet de normaliser chaque image indépendamment des autres, ce qui est important car les images peuvent avoir des plages de valeurs différentes."
      ],
      "metadata": {
        "id": "66y7YmGg30ex"
      }
    },
    {
      "cell_type": "code",
      "source": [
        "mnist = tf.keras.datasets.mnist#est un ensemble de données de reconnaissance de chiffres manuscrits largement utilisé dans le domaine de l'apprentissage automatique. Il est constitué d'un ensemble de 60 000 images d'entraînement et d'un ensemble de test de 10 000 images\n",
        "#des images en niveaux de gris de 28x28 pixels, centrées autour du chiffre manuscrit.\n",
        "(x_train,y_train),(x_test,y_test) = mnist.load_data()\n",
        "#Cette technique permet de stocker plusieurs valeurs retournées par une fonction dans plusieurs variables en une seule ligne de code\n",
        "#charge les données d'entraînement et de test de l'ensemble de données\n",
        "x_train = tf.keras.utils.normalize(x_train,axis=1)#normalise les données d'entrainement\n",
        "x_test = tf.keras.utils.normalize(x_test,axis=1)"
      ],
      "metadata": {
        "id": "zUfqYoDprxla"
      },
      "execution_count": null,
      "outputs": []
    },
    {
      "cell_type": "markdown",
      "source": [
        "Creation et entrainement d'un neural network\n",
        "Flatten=> takes the input data, which can be a 2D or 3D tensor(image or matrix), and reshapes it into a 1D tensor without changing the content of the data.\n",
        "Dense=>is used to create a fully connected layer in a neural network. A dense layer connects each neuron in the layer to every neuron in the previous layer, forming a fully connected network. In a dense layer, each neuron applies a linear transformation to the inputs it receives, and passes the output through an activation function to produce its output value.\n",
        "The softmax function is a type of activation function commonly used in the output layer of a neural network for multi-class classification problems."
      ],
      "metadata": {
        "id": "8RPXMgAN5zjC"
      }
    },
    {
      "cell_type": "code",
      "source": [
        "model = tf.keras.models.Sequential()#un type de modèle de réseau de neurones artificiels\n",
        "#input layer\n",
        "model.add(tf.keras.layers.Flatten(input_shape=(28,28)))\n",
        "#hidden layers\n",
        "model.add(tf.keras.layers.Dense(units=128,activation=tf.nn.relu))\n",
        "model.add(tf.keras.layers.Dense(units=128,activation=tf.nn.relu))\n",
        "#output layer\n",
        "model.add(tf.keras.layers.Dense(units=10,activation=tf.nn.softmax))#Softmax converts the output of the model into a probability distribution over the possible classes.\n",
        "\n",
        "model.compile(optimizer='adam',loss='sparse_categorical_crossentropy',metrics=['accuracy'])\n",
        "\n",
        "#Train the model\n",
        "model.fit(x_train,y_train,epochs=3)\n",
        "\n",
        "accuracy,loss = model.evaluate(x_test,y_test)\n",
        "print(accuracy)\n",
        "print(loss)\n",
        "\n",
        "model.save('digits.model')"
      ],
      "metadata": {
        "colab": {
          "base_uri": "https://localhost:8080/"
        },
        "id": "zsMkQwzTrxxL",
        "outputId": "392da535-1e47-4c59-95d1-806d6ada1870"
      },
      "execution_count": null,
      "outputs": [
        {
          "output_type": "stream",
          "name": "stdout",
          "text": [
            "Epoch 1/3\n",
            "1875/1875 [==============================] - 11s 5ms/step - loss: 0.2608 - accuracy: 0.9245\n",
            "Epoch 2/3\n",
            "1875/1875 [==============================] - 7s 4ms/step - loss: 0.1058 - accuracy: 0.9682\n",
            "Epoch 3/3\n",
            "1875/1875 [==============================] - 8s 4ms/step - loss: 0.0719 - accuracy: 0.9776\n",
            "313/313 [==============================] - 1s 2ms/step - loss: 0.0927 - accuracy: 0.9729\n",
            "0.09267892688512802\n",
            "0.9728999733924866\n"
          ]
        },
        {
          "output_type": "stream",
          "name": "stderr",
          "text": [
            "WARNING:absl:Found untraced functions such as _update_step_xla while saving (showing 1 of 1). These functions will not be directly callable after loading.\n"
          ]
        }
      ]
    },
    {
      "cell_type": "code",
      "source": [
        "from google.colab import files\n",
        "uploaded = files.upload()"
      ],
      "metadata": {
        "colab": {
          "base_uri": "https://localhost:8080/",
          "height": 212
        },
        "id": "DIHjFq0Wrx4D",
        "outputId": "8b0f4e43-cf6c-47e8-80f6-46e504e5dc74"
      },
      "execution_count": null,
      "outputs": [
        {
          "output_type": "display_data",
          "data": {
            "text/plain": [
              "<IPython.core.display.HTML object>"
            ],
            "text/html": [
              "\n",
              "     <input type=\"file\" id=\"files-d4d35898-930c-44a2-b3b3-552eaf96dc32\" name=\"files[]\" multiple disabled\n",
              "        style=\"border:none\" />\n",
              "     <output id=\"result-d4d35898-930c-44a2-b3b3-552eaf96dc32\">\n",
              "      Upload widget is only available when the cell has been executed in the\n",
              "      current browser session. Please rerun this cell to enable.\n",
              "      </output>\n",
              "      <script>// Copyright 2017 Google LLC\n",
              "//\n",
              "// Licensed under the Apache License, Version 2.0 (the \"License\");\n",
              "// you may not use this file except in compliance with the License.\n",
              "// You may obtain a copy of the License at\n",
              "//\n",
              "//      http://www.apache.org/licenses/LICENSE-2.0\n",
              "//\n",
              "// Unless required by applicable law or agreed to in writing, software\n",
              "// distributed under the License is distributed on an \"AS IS\" BASIS,\n",
              "// WITHOUT WARRANTIES OR CONDITIONS OF ANY KIND, either express or implied.\n",
              "// See the License for the specific language governing permissions and\n",
              "// limitations under the License.\n",
              "\n",
              "/**\n",
              " * @fileoverview Helpers for google.colab Python module.\n",
              " */\n",
              "(function(scope) {\n",
              "function span(text, styleAttributes = {}) {\n",
              "  const element = document.createElement('span');\n",
              "  element.textContent = text;\n",
              "  for (const key of Object.keys(styleAttributes)) {\n",
              "    element.style[key] = styleAttributes[key];\n",
              "  }\n",
              "  return element;\n",
              "}\n",
              "\n",
              "// Max number of bytes which will be uploaded at a time.\n",
              "const MAX_PAYLOAD_SIZE = 100 * 1024;\n",
              "\n",
              "function _uploadFiles(inputId, outputId) {\n",
              "  const steps = uploadFilesStep(inputId, outputId);\n",
              "  const outputElement = document.getElementById(outputId);\n",
              "  // Cache steps on the outputElement to make it available for the next call\n",
              "  // to uploadFilesContinue from Python.\n",
              "  outputElement.steps = steps;\n",
              "\n",
              "  return _uploadFilesContinue(outputId);\n",
              "}\n",
              "\n",
              "// This is roughly an async generator (not supported in the browser yet),\n",
              "// where there are multiple asynchronous steps and the Python side is going\n",
              "// to poll for completion of each step.\n",
              "// This uses a Promise to block the python side on completion of each step,\n",
              "// then passes the result of the previous step as the input to the next step.\n",
              "function _uploadFilesContinue(outputId) {\n",
              "  const outputElement = document.getElementById(outputId);\n",
              "  const steps = outputElement.steps;\n",
              "\n",
              "  const next = steps.next(outputElement.lastPromiseValue);\n",
              "  return Promise.resolve(next.value.promise).then((value) => {\n",
              "    // Cache the last promise value to make it available to the next\n",
              "    // step of the generator.\n",
              "    outputElement.lastPromiseValue = value;\n",
              "    return next.value.response;\n",
              "  });\n",
              "}\n",
              "\n",
              "/**\n",
              " * Generator function which is called between each async step of the upload\n",
              " * process.\n",
              " * @param {string} inputId Element ID of the input file picker element.\n",
              " * @param {string} outputId Element ID of the output display.\n",
              " * @return {!Iterable<!Object>} Iterable of next steps.\n",
              " */\n",
              "function* uploadFilesStep(inputId, outputId) {\n",
              "  const inputElement = document.getElementById(inputId);\n",
              "  inputElement.disabled = false;\n",
              "\n",
              "  const outputElement = document.getElementById(outputId);\n",
              "  outputElement.innerHTML = '';\n",
              "\n",
              "  const pickedPromise = new Promise((resolve) => {\n",
              "    inputElement.addEventListener('change', (e) => {\n",
              "      resolve(e.target.files);\n",
              "    });\n",
              "  });\n",
              "\n",
              "  const cancel = document.createElement('button');\n",
              "  inputElement.parentElement.appendChild(cancel);\n",
              "  cancel.textContent = 'Cancel upload';\n",
              "  const cancelPromise = new Promise((resolve) => {\n",
              "    cancel.onclick = () => {\n",
              "      resolve(null);\n",
              "    };\n",
              "  });\n",
              "\n",
              "  // Wait for the user to pick the files.\n",
              "  const files = yield {\n",
              "    promise: Promise.race([pickedPromise, cancelPromise]),\n",
              "    response: {\n",
              "      action: 'starting',\n",
              "    }\n",
              "  };\n",
              "\n",
              "  cancel.remove();\n",
              "\n",
              "  // Disable the input element since further picks are not allowed.\n",
              "  inputElement.disabled = true;\n",
              "\n",
              "  if (!files) {\n",
              "    return {\n",
              "      response: {\n",
              "        action: 'complete',\n",
              "      }\n",
              "    };\n",
              "  }\n",
              "\n",
              "  for (const file of files) {\n",
              "    const li = document.createElement('li');\n",
              "    li.append(span(file.name, {fontWeight: 'bold'}));\n",
              "    li.append(span(\n",
              "        `(${file.type || 'n/a'}) - ${file.size} bytes, ` +\n",
              "        `last modified: ${\n",
              "            file.lastModifiedDate ? file.lastModifiedDate.toLocaleDateString() :\n",
              "                                    'n/a'} - `));\n",
              "    const percent = span('0% done');\n",
              "    li.appendChild(percent);\n",
              "\n",
              "    outputElement.appendChild(li);\n",
              "\n",
              "    const fileDataPromise = new Promise((resolve) => {\n",
              "      const reader = new FileReader();\n",
              "      reader.onload = (e) => {\n",
              "        resolve(e.target.result);\n",
              "      };\n",
              "      reader.readAsArrayBuffer(file);\n",
              "    });\n",
              "    // Wait for the data to be ready.\n",
              "    let fileData = yield {\n",
              "      promise: fileDataPromise,\n",
              "      response: {\n",
              "        action: 'continue',\n",
              "      }\n",
              "    };\n",
              "\n",
              "    // Use a chunked sending to avoid message size limits. See b/62115660.\n",
              "    let position = 0;\n",
              "    do {\n",
              "      const length = Math.min(fileData.byteLength - position, MAX_PAYLOAD_SIZE);\n",
              "      const chunk = new Uint8Array(fileData, position, length);\n",
              "      position += length;\n",
              "\n",
              "      const base64 = btoa(String.fromCharCode.apply(null, chunk));\n",
              "      yield {\n",
              "        response: {\n",
              "          action: 'append',\n",
              "          file: file.name,\n",
              "          data: base64,\n",
              "        },\n",
              "      };\n",
              "\n",
              "      let percentDone = fileData.byteLength === 0 ?\n",
              "          100 :\n",
              "          Math.round((position / fileData.byteLength) * 100);\n",
              "      percent.textContent = `${percentDone}% done`;\n",
              "\n",
              "    } while (position < fileData.byteLength);\n",
              "  }\n",
              "\n",
              "  // All done.\n",
              "  yield {\n",
              "    response: {\n",
              "      action: 'complete',\n",
              "    }\n",
              "  };\n",
              "}\n",
              "\n",
              "scope.google = scope.google || {};\n",
              "scope.google.colab = scope.google.colab || {};\n",
              "scope.google.colab._files = {\n",
              "  _uploadFiles,\n",
              "  _uploadFilesContinue,\n",
              "};\n",
              "})(self);\n",
              "</script> "
            ]
          },
          "metadata": {}
        },
        {
          "output_type": "stream",
          "name": "stdout",
          "text": [
            "Saving 11.png to 11 (1).png\n",
            "Saving 22.png to 22 (1).png\n",
            "Saving 33.png to 33 (1).png\n",
            "Saving 44.png to 44 (1).png\n",
            "Saving 55.png to 55 (1).png\n"
          ]
        }
      ]
    },
    {
      "cell_type": "code",
      "source": [
        "for x in range(1,6):\n",
        "  img = cv.imread(f'{x*10+x}.png')[:,:,0]\n",
        "  img = np.invert(np.array([img]))\n",
        "  prediction = model.predict(img)\n",
        "  print('The result is probably: ',(np.argmax(prediction)))\n",
        "  plt.imshow(img[0],cmap=plt.cm.binary)\n",
        "  plt.show()"
      ],
      "metadata": {
        "colab": {
          "base_uri": "https://localhost:8080/",
          "height": 1000
        },
        "id": "XRyTy77MryBR",
        "outputId": "9ea0d5a4-08cc-4720-a838-c4b97b873adc"
      },
      "execution_count": null,
      "outputs": [
        {
          "output_type": "stream",
          "name": "stdout",
          "text": [
            "1/1 [==============================] - 0s 83ms/step\n",
            "The result is probably:  1\n"
          ]
        },
        {
          "output_type": "display_data",
          "data": {
            "text/plain": [
              "<Figure size 432x288 with 1 Axes>"
            ],
            "image/png": "[encoded data removed]"
          },
          "metadata": {
            "needs_background": "light"
          }
        },
        {
          "output_type": "stream",
          "name": "stdout",
          "text": [
            "1/1 [==============================] - 0s 23ms/step\n",
            "The result is probably:  6\n"
          ]
        },
        {
          "output_type": "display_data",
          "data": {
            "text/plain": [
              "<Figure size 432x288 with 1 Axes>"
            ],
            "image/png": "[encoded data removed]"
          },
          "metadata": {
            "needs_background": "light"
          }
        },
        {
          "output_type": "stream",
          "name": "stdout",
          "text": [
            "1/1 [==============================] - 0s 27ms/step\n",
            "The result is probably:  3\n"
          ]
        },
        {
          "output_type": "display_data",
          "data": {
            "text/plain": [
              "<Figure size 432x288 with 1 Axes>"
            ],
            "image/png": "[encoded data removed]"
          },
          "metadata": {
            "needs_background": "light"
          }
        },
        {
          "output_type": "stream",
          "name": "stdout",
          "text": [
            "1/1 [==============================] - 0s 35ms/step\n",
            "The result is probably:  1\n"
          ]
        },
        {
          "output_type": "display_data",
          "data": {
            "text/plain": [
              "<Figure size 432x288 with 1 Axes>"
            ],
            "image/png": "[encoded data removed]"
          },
          "metadata": {
            "needs_background": "light"
          }
        },
        {
          "output_type": "stream",
          "name": "stdout",
          "text": [
            "1/1 [==============================] - 0s 21ms/step\n",
            "The result is probably:  3\n"
          ]
        },
        {
          "output_type": "display_data",
          "data": {
            "text/plain": [
              "<Figure size 432x288 with 1 Axes>"
            ],
            "image/png": "[encoded data removed]"
          },
          "metadata": {
            "needs_background": "light"
          }
        }
      ]
    },
    {
      "cell_type": "code",
      "source": [
        "from google.colab import drive\n",
        "drive.mount('/content/drive')\n",
        "\n",
        "# Cloner le dépôt\n",
        "!git clone https://github.com/amiinaaa/repository.git\n",
        "%cd repository\n",
        "\n",
        "# Copier votre fichier Python depuis Google Drive (ajustez le chemin)\n",
        "!cp /content/drive/MyDrive/path_to_your_file.py .\n",
        "\n",
        "# Ajouter les fichiers et faire un commit\n",
        "!git add .\n",
        "!git commit -m \"Ajout du code de Google Colab\"\n",
        "\n",
        "# Pousser les changements vers GitHub\n",
        "!git push https://<votre_nom_utilisateur>:<votre_jeton>@github.com/username/repository.git\n"
      ],
      "metadata": {
        "id": "f59-Mxj_5SyA"
      },
      "execution_count": null,
      "outputs": []
    }
  ]
}